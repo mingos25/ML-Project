{
  "cells": [
    {
      "cell_type": "markdown",
      "metadata": {
        "id": "pHE8RekAqZI9"
      },
      "source": [
        "validation set"
      ]
    },
    {
      "cell_type": "code",
      "source": [],
      "metadata": {
        "id": "pWsxroHiqjBz"
      },
      "execution_count": null,
      "outputs": []
    }
  ],
  "metadata": {
    "language_info": {
      "name": "python"
    },
    "colab": {
      "provenance": []
    },
    "kernelspec": {
      "name": "python3",
      "display_name": "Python 3"
    }
  },
  "nbformat": 4,
  "nbformat_minor": 0
}